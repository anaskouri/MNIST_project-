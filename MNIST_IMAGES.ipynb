{
  "nbformat": 4,
  "nbformat_minor": 0,
  "metadata": {
    "colab": {
      "name": "MNIST_IMAGES.ipynb",
      "provenance": []
    },
    "kernelspec": {
      "name": "python3",
      "display_name": "Python 3"
    },
    "language_info": {
      "name": "python"
    }
  },
  "cells": [
    {
      "cell_type": "markdown",
      "metadata": {
        "id": "Gv9e5hiDDQiB"
      },
      "source": [
        "## MNIST IMAGES\n",
        "## Name: Anas Kouri"
      ]
    },
    {
      "cell_type": "markdown",
      "metadata": {
        "id": "kpBqm62foa0M"
      },
      "source": [
        "#Import some useful libraries"
      ]
    },
    {
      "cell_type": "code",
      "metadata": {
        "id": "QF6k0YF-Dat6"
      },
      "source": [
        "import pandas as pd\n",
        "import numpy as np\n",
        "\n",
        "# to make this notebook's output stable across runs\n",
        "np.random.seed(42)\n",
        "\n",
        "# To plot pretty figures\n",
        "%matplotlib inline\n",
        "import matplotlib as mpl\n",
        "import matplotlib.pyplot as plt\n",
        "mpl.rc('axes', labelsize=14)\n",
        "mpl.rc('xtick', labelsize=12)\n",
        "mpl.rc('ytick', labelsize=12)"
      ],
      "execution_count": null,
      "outputs": []
    },
    {
      "cell_type": "markdown",
      "metadata": {
        "id": "k2eDd04ADt03"
      },
      "source": [
        "# Importing Data"
      ]
    },
    {
      "cell_type": "code",
      "metadata": {
        "id": "Sg4LjF_5DnGE"
      },
      "source": [
        "# Functions to load MNIST images and unpack into train and test set.\n",
        "# - loadData reads a image and formats it into a 28x28 long array\n",
        "# - loadLabels reads the corresponding label data, one for each image\n",
        "# - load packs the downloaded image and label data into a combined format to be read later by\n",
        "#   the CNTK text reader\n",
        "\n",
        "def loadData(src, cimg):\n",
        "    print ('Downloading ' + src)\n",
        "    gzfname, h = urlretrieve(src, './delete.me')\n",
        "    print ('Done.')\n",
        "    try:\n",
        "        with gzip.open(gzfname) as gz:\n",
        "            n = struct.unpack('I', gz.read(4))\n",
        "            # Read magic number.\n",
        "            if n[0] != 0x3080000:\n",
        "                raise Exception('Invalid file: unexpected magic number.')\n",
        "            # Read number of entries.\n",
        "            n = struct.unpack('>I', gz.read(4))[0]\n",
        "            if n != cimg:\n",
        "                raise Exception('Invalid file: expected {0} entries.'.format(cimg))\n",
        "            crow = struct.unpack('>I', gz.read(4))[0]\n",
        "            ccol = struct.unpack('>I', gz.read(4))[0]\n",
        "            if crow != 28 or ccol != 28:\n",
        "                raise Exception('Invalid file: expected 28 rows/cols per image.')\n",
        "            # Read data.\n",
        "            res = np.fromstring(gz.read(cimg * crow * ccol), dtype = np.uint8)\n",
        "    finally:\n",
        "        os.remove(gzfname)\n",
        "    return res.reshape((cimg, crow * ccol))\n",
        "\n",
        "def loadLabels(src, cimg):\n",
        "    print ('Downloading ' + src)\n",
        "    gzfname, h = urlretrieve(src, './delete.me')\n",
        "    print ('Done.')\n",
        "    try:\n",
        "        with gzip.open(gzfname) as gz:\n",
        "            n = struct.unpack('I', gz.read(4))\n",
        "            # Read magic number.\n",
        "            if n[0] != 0x1080000:\n",
        "                raise Exception('Invalid file: unexpected magic number.')\n",
        "            # Read number of entries.\n",
        "            n = struct.unpack('>I', gz.read(4))\n",
        "            if n[0] != cimg:\n",
        "                raise Exception('Invalid file: expected {0} rows.'.format(cimg))\n",
        "            # Read labels.\n",
        "            res = np.fromstring(gz.read(cimg), dtype = np.uint8)\n",
        "    finally:\n",
        "        os.remove(gzfname)\n",
        "    return res.reshape((cimg, 1))\n",
        "\n",
        "def try_download(dataSrc, labelsSrc, cimg):\n",
        "    data = loadData(dataSrc, cimg)\n",
        "    labels = loadLabels(labelsSrc, cimg)\n",
        "    return np.hstack((data, labels))\n"
      ],
      "execution_count": null,
      "outputs": []
    },
    {
      "cell_type": "code",
      "metadata": {
        "colab": {
          "base_uri": "https://localhost:8080/"
        },
        "id": "pOSAaomzMNMV",
        "outputId": "abd82e46-3e1b-4590-a137-271ec603b433"
      },
      "source": [
        "import gzip\n",
        "import os\n",
        "from urllib.request import urlretrieve\n",
        "import struct\n",
        "# URLs for the train image and label data\n",
        "url_train_image = 'http://yann.lecun.com/exdb/mnist/train-images-idx3-ubyte.gz'\n",
        "url_train_labels = 'http://yann.lecun.com/exdb/mnist/train-labels-idx1-ubyte.gz'\n",
        "num_train_samples = 60000\n",
        "\n",
        "print(\"Downloading train data\")\n",
        "train = try_download(url_train_image, url_train_labels, num_train_samples)\n",
        "\n",
        "# URLs for the test image and label data\n",
        "url_test_image = 'http://yann.lecun.com/exdb/mnist/t10k-images-idx3-ubyte.gz'\n",
        "url_test_labels = 'http://yann.lecun.com/exdb/mnist/t10k-labels-idx1-ubyte.gz'\n",
        "num_test_samples = 10000\n",
        "\n",
        "print(\"Downloading test data\")\n",
        "test = try_download(url_test_image, url_test_labels, num_test_samples)"
      ],
      "execution_count": null,
      "outputs": [
        {
          "output_type": "stream",
          "name": "stdout",
          "text": [
            "Downloading train data\n",
            "Downloading http://yann.lecun.com/exdb/mnist/train-images-idx3-ubyte.gz\n",
            "Done.\n"
          ]
        },
        {
          "output_type": "stream",
          "name": "stderr",
          "text": [
            "/usr/local/lib/python3.7/dist-packages/ipykernel_launcher.py:26: DeprecationWarning: The binary mode of fromstring is deprecated, as it behaves surprisingly on unicode inputs. Use frombuffer instead\n",
            "/usr/local/lib/python3.7/dist-packages/ipykernel_launcher.py:46: DeprecationWarning: The binary mode of fromstring is deprecated, as it behaves surprisingly on unicode inputs. Use frombuffer instead\n"
          ]
        },
        {
          "output_type": "stream",
          "name": "stdout",
          "text": [
            "Downloading http://yann.lecun.com/exdb/mnist/train-labels-idx1-ubyte.gz\n",
            "Done.\n",
            "Downloading test data\n",
            "Downloading http://yann.lecun.com/exdb/mnist/t10k-images-idx3-ubyte.gz\n",
            "Done.\n",
            "Downloading http://yann.lecun.com/exdb/mnist/t10k-labels-idx1-ubyte.gz\n",
            "Done.\n"
          ]
        }
      ]
    },
    {
      "cell_type": "markdown",
      "metadata": {
        "id": "goN6LYw_QuwE"
      },
      "source": [
        "After downlading the data, we should split the train set into data and labels, and also for test set."
      ]
    },
    {
      "cell_type": "code",
      "metadata": {
        "id": "3tB3u9goPxft"
      },
      "source": [
        "X_train = train[:, :-1]\n",
        "y_train = train[:, -1]\n",
        "X_test = test[:, :-1]\n",
        "y_test = test[:, -1]"
      ],
      "execution_count": null,
      "outputs": []
    },
    {
      "cell_type": "code",
      "metadata": {
        "colab": {
          "base_uri": "https://localhost:8080/"
        },
        "id": "ltgUsyTOQKPa",
        "outputId": "55461dcd-cc20-49ce-c825-4a5b6f68566c"
      },
      "source": [
        "X_train.shape"
      ],
      "execution_count": null,
      "outputs": [
        {
          "output_type": "execute_result",
          "data": {
            "text/plain": [
              "(60000, 784)"
            ]
          },
          "metadata": {},
          "execution_count": 7
        }
      ]
    },
    {
      "cell_type": "code",
      "metadata": {
        "colab": {
          "base_uri": "https://localhost:8080/"
        },
        "id": "4aRRUxdmRzel",
        "outputId": "a8a9c8f4-4548-49af-fb28-44b2e8706a26"
      },
      "source": [
        "y_train.shape"
      ],
      "execution_count": null,
      "outputs": [
        {
          "output_type": "execute_result",
          "data": {
            "text/plain": [
              "(60000,)"
            ]
          },
          "metadata": {},
          "execution_count": 5
        }
      ]
    },
    {
      "cell_type": "code",
      "metadata": {
        "colab": {
          "base_uri": "https://localhost:8080/",
          "height": 248
        },
        "id": "TK4sJTWLccE2",
        "outputId": "aa92308b-dce0-4866-a7f1-4e39765dfb76"
      },
      "source": [
        "# we show an example of images \n",
        "%matplotlib inline\n",
        "import matplotlib as mpl\n",
        "import matplotlib.pyplot as plt\n",
        "\n",
        "some_digit = X_train[2]\n",
        "some_digit_image = some_digit.reshape(28, 28)\n",
        "plt.imshow(some_digit_image, cmap=mpl.cm.binary)\n",
        "plt.axis(\"off\")\n",
        "plt.show()"
      ],
      "execution_count": null,
      "outputs": [
        {
          "output_type": "display_data",
          "data": {
            "text/plain": [
              "<Figure size 432x288 with 1 Axes>"
            ],
            "image/png": "[encoded data removed]"
          },
          "metadata": {
            "needs_background": "light"
          }
        }
      ]
    },
    {
      "cell_type": "markdown",
      "metadata": {
        "id": "r2HUHZrCd8I-"
      },
      "source": [
        "This image looks like a 4. Let's see what the label tell us."
      ]
    },
    {
      "cell_type": "code",
      "metadata": {
        "colab": {
          "base_uri": "https://localhost:8080/"
        },
        "id": "NrbmLMN8c98H",
        "outputId": "7695cb48-8831-4d81-bc4a-e56d3dc67747"
      },
      "source": [
        "y_train[2]"
      ],
      "execution_count": null,
      "outputs": [
        {
          "output_type": "execute_result",
          "data": {
            "text/plain": [
              "4"
            ]
          },
          "metadata": {},
          "execution_count": 7
        }
      ]
    },
    {
      "cell_type": "markdown",
      "metadata": {
        "id": "G260VyoqeGOI"
      },
      "source": [
        "Indeed, the label is a 4."
      ]
    },
    {
      "cell_type": "markdown",
      "metadata": {
        "id": "UDd7ykWdyjkX"
      },
      "source": [
        "# Multiclass Classification"
      ]
    },
    {
      "cell_type": "markdown",
      "metadata": {
        "id": "EXrEDLTgytZg"
      },
      "source": [
        "Whereas binary classifiers distinguish between two classes, multiclass classifers can distinguish between more than two classes.\n",
        "\n",
        "There are two diffrent ways to create a system that can classifie the digits into 10 classes from 0 to 9.\n",
        "\n",
        "The first strategy is called the one-versus-the-rest(OvR). Basically, the goal is the train 10 binary classifier, one for each number (0-class, 1-class, 2-class..etc). Moreover, when we want to classify an image, we get the decision score from each classifier, and we choose the class whose classifier get us the highest score. \n",
        "\n",
        "The second strategy is to train a binary classifer for every pair of digits. for example, a classifier to distinguish between 0 and 1, another to distinguish between 0 and 2 or 0 and 3 ...etc. This strategy is called the One-versus-one(OvO). We have 10 classes, thus, we need to train 10*(10-1)/2 = 45 classifiers. \n"
      ]
    },
    {
      "cell_type": "markdown",
      "metadata": {
        "id": "9Pwl8QMy3uWI"
      },
      "source": [
        "# Support Vector Machine (SVM)"
      ]
    },
    {
      "cell_type": "markdown",
      "metadata": {
        "id": "MYNRSZ975E2h"
      },
      "source": [
        "Let's first try a strictly binary classifier such a SVM. The classifier will automatically runs OvR or OvO, depending on the algorithm."
      ]
    },
    {
      "cell_type": "code",
      "metadata": {
        "colab": {
          "base_uri": "https://localhost:8080/"
        },
        "id": "mKSNvVzldINk",
        "outputId": "15d97c83-a416-4d4a-bb32-7202144ff9ed"
      },
      "source": [
        "from sklearn.svm import SVC\n",
        "svm_classifier = SVC(gamma=\"auto\", random_state=42)\n",
        "svm_classifier.fit(X_train[:1000],y_train[:1000])\n",
        "svm_classifier.predict([some_digit])"
      ],
      "execution_count": null,
      "outputs": [
        {
          "output_type": "execute_result",
          "data": {
            "text/plain": [
              "array([4], dtype=uint8)"
            ]
          },
          "metadata": {},
          "execution_count": 12
        }
      ]
    },
    {
      "cell_type": "markdown",
      "metadata": {
        "id": "klIySc6m-u6d"
      },
      "source": [
        "The classifier predicted indeed the right class 4.\n",
        "\n",
        "Scikit-Learn actually useed the OvO strategy, so it trains 45 binary classifiers. Then, the library got their decision score, and selected the class that has a high score."
      ]
    },
    {
      "cell_type": "code",
      "metadata": {
        "colab": {
          "base_uri": "https://localhost:8080/"
        },
        "id": "TgpbIEQQ-pxL",
        "outputId": "728155bd-022d-4d4f-b597-df284a527d7e"
      },
      "source": [
        "scores = svm_classifier.decision_function([some_digit])\n",
        "scores"
      ],
      "execution_count": null,
      "outputs": [
        {
          "output_type": "execute_result",
          "data": {
            "text/plain": [
              "array([[ 3.82111996,  7.09167958,  4.83444983,  1.79943469,  9.29932174,\n",
              "         0.79485736,  2.80437474,  8.10392157, -0.22417259,  5.84182891]])"
            ]
          },
          "metadata": {},
          "execution_count": 13
        }
      ]
    },
    {
      "cell_type": "code",
      "metadata": {
        "colab": {
          "base_uri": "https://localhost:8080/"
        },
        "id": "cj02HOWB__Mv",
        "outputId": "c3180e6e-aa16-48b8-dca3-fc1c23654ad7"
      },
      "source": [
        "svm_classifier.classes_"
      ],
      "execution_count": null,
      "outputs": [
        {
          "output_type": "execute_result",
          "data": {
            "text/plain": [
              "array([0, 1, 2, 3, 4, 5, 6, 7, 8, 9], dtype=uint8)"
            ]
          },
          "metadata": {},
          "execution_count": 14
        }
      ]
    },
    {
      "cell_type": "code",
      "metadata": {
        "colab": {
          "base_uri": "https://localhost:8080/"
        },
        "id": "wcDce6IQ_zQP",
        "outputId": "6a4e3e8d-4ee7-4670-8d89-9dc2dc2f5936"
      },
      "source": [
        "np.argmax(scores)"
      ],
      "execution_count": null,
      "outputs": [
        {
          "output_type": "execute_result",
          "data": {
            "text/plain": [
              "4"
            ]
          },
          "metadata": {},
          "execution_count": 15
        }
      ]
    },
    {
      "cell_type": "markdown",
      "metadata": {
        "id": "jAbRHUjw_n72"
      },
      "source": [
        "we can see indeed, that the highest score is the one corresponding to class 4."
      ]
    },
    {
      "cell_type": "markdown",
      "metadata": {
        "id": "Wifoy0QpALZY"
      },
      "source": [
        "We can also force scikit-learn to use OvR insted of OvO. To do that, we should import OneVsRestClassifier class.\n"
      ]
    },
    {
      "cell_type": "code",
      "metadata": {
        "colab": {
          "base_uri": "https://localhost:8080/"
        },
        "id": "rKEDs6wg8Uh8",
        "outputId": "15f47610-9dee-4965-8797-72c3806110e1"
      },
      "source": [
        "from sklearn.multiclass import OneVsRestClassifier\n",
        "ovr_svm_classifier = OneVsRestClassifier(SVC(gamma=\"auto\",random_state=42))\n",
        "ovr_svm_classifier.fit(X_train[:1000],y_train[:1000])\n",
        "ovr_svm_classifier.predict(([some_digit]))"
      ],
      "execution_count": null,
      "outputs": [
        {
          "output_type": "execute_result",
          "data": {
            "text/plain": [
              "array([4], dtype=uint8)"
            ]
          },
          "metadata": {},
          "execution_count": 16
        }
      ]
    },
    {
      "cell_type": "markdown",
      "metadata": {
        "id": "Hbyk77RVBTYW"
      },
      "source": [
        "# Stochastic Gradient Descent(SGD)"
      ]
    },
    {
      "cell_type": "markdown",
      "metadata": {
        "id": "6CKe2I-7B8zS"
      },
      "source": [
        "Let's to train a SGD Classifier, which is a classifer that can handle multiple classes natively"
      ]
    },
    {
      "cell_type": "code",
      "metadata": {
        "colab": {
          "base_uri": "https://localhost:8080/"
        },
        "id": "vH6lrYpNBBtK",
        "outputId": "2ff64dd1-c9d5-4ca6-a78f-08ad3cf8fcf0"
      },
      "source": [
        "from sklearn.linear_model import SGDClassifier\n",
        "sgd_classifier = SGDClassifier(max_iter=1000, tol=1e-3, random_state=42)\n",
        "sgd_classifier.fit(X_train,y_train)\n"
      ],
      "execution_count": null,
      "outputs": [
        {
          "output_type": "execute_result",
          "data": {
            "text/plain": [
              "SGDClassifier(random_state=42)"
            ]
          },
          "metadata": {},
          "execution_count": 17
        }
      ]
    },
    {
      "cell_type": "code",
      "metadata": {
        "colab": {
          "base_uri": "https://localhost:8080/"
        },
        "id": "Qi9f-aBsET3T",
        "outputId": "864c4dd4-1bcf-4fff-b927-51044d7cb00b"
      },
      "source": [
        "sgd_classifier.predict([some_digit])"
      ],
      "execution_count": null,
      "outputs": [
        {
          "output_type": "execute_result",
          "data": {
            "text/plain": [
              "array([4], dtype=uint8)"
            ]
          },
          "metadata": {},
          "execution_count": 18
        }
      ]
    },
    {
      "cell_type": "code",
      "metadata": {
        "colab": {
          "base_uri": "https://localhost:8080/"
        },
        "id": "NpTch8LSEayP",
        "outputId": "7942a1c1-1bb8-4529-e792-21a344ba9168"
      },
      "source": [
        "sgd_classifier.decision_function([some_digit])"
      ],
      "execution_count": null,
      "outputs": [
        {
          "output_type": "execute_result",
          "data": {
            "text/plain": [
              "array([[-34143.40703505, -21942.13780869,  -4018.29275037,\n",
              "         -2239.19313075,     43.09419826, -15058.88052383,\n",
              "        -33653.31059893,  -8277.80610963,  -7460.52016321,\n",
              "        -14180.15338984]])"
            ]
          },
          "metadata": {},
          "execution_count": 19
        }
      ]
    },
    {
      "cell_type": "markdown",
      "metadata": {
        "id": "qf6oH-R2Ey2f"
      },
      "source": [
        "We can see that the highest score is the one corresponding to class 4. Therefore, we can evaluate this classifier model. We can use cross-validation. This method will help us to evaluate the model without actually apply it on the test set. There is a function called cross_val_score() that can evaluate the classifier's accuracy."
      ]
    },
    {
      "cell_type": "code",
      "metadata": {
        "colab": {
          "base_uri": "https://localhost:8080/"
        },
        "id": "eMmdoKM5EoFV",
        "outputId": "a5d4163c-bf69-440c-de69-916db0242df2"
      },
      "source": [
        "from sklearn.model_selection import cross_val_score\n",
        "cross_val_score(sgd_classifier,X_train,y_train,cv=3,scoring=\"accuracy\")"
      ],
      "execution_count": null,
      "outputs": [
        {
          "output_type": "execute_result",
          "data": {
            "text/plain": [
              "array([0.87365, 0.85835, 0.8689 ])"
            ]
          },
          "metadata": {},
          "execution_count": 20
        }
      ]
    },
    {
      "cell_type": "markdown",
      "metadata": {
        "id": "ZzZxlvt0HfMu"
      },
      "source": [
        "The SGDClassifier gets over 85% on all test folds. We can improve it a little bit by Scalling the inuputs."
      ]
    },
    {
      "cell_type": "code",
      "metadata": {
        "colab": {
          "base_uri": "https://localhost:8080/"
        },
        "id": "SAEwhTKyFwEB",
        "outputId": "a360dcc0-1cf9-4eca-bf4c-87631d7d7c95"
      },
      "source": [
        "from sklearn.preprocessing import StandardScaler\n",
        "scaler = StandardScaler()\n",
        "X_train_scaled = scaler.fit_transform(X_train.astype(np.float64))\n",
        "cross_val_score(sgd_classifier,X_train_scaled,y_train,cv=3,scoring=\"accuracy\")"
      ],
      "execution_count": null,
      "outputs": [
        {
          "output_type": "execute_result",
          "data": {
            "text/plain": [
              "array([0.8983, 0.891 , 0.9018])"
            ]
          },
          "metadata": {},
          "execution_count": 21
        }
      ]
    },
    {
      "cell_type": "markdown",
      "metadata": {
        "id": "GGY54IWVSzDc"
      },
      "source": [
        "After scaling the inputs we get more than 89% accuracy."
      ]
    },
    {
      "cell_type": "markdown",
      "metadata": {
        "id": "Jlf78vdAUQ1B"
      },
      "source": [
        "# Error Analysis"
      ]
    },
    {
      "cell_type": "markdown",
      "metadata": {
        "id": "LbJZJ0BOXTYs"
      },
      "source": [
        "First lets calculate the confusion matrix for the SGDClassifier.\n"
      ]
    },
    {
      "cell_type": "code",
      "metadata": {
        "colab": {
          "base_uri": "https://localhost:8080/"
        },
        "id": "gbRQzWUaIYfb",
        "outputId": "37115d13-80ca-4167-83ce-383313dab0ba"
      },
      "source": [
        "from sklearn.model_selection import cross_val_predict\n",
        "from sklearn.metrics import confusion_matrix\n",
        "y_train_predict = cross_val_predict(sgd_classifier,X_train_scaled,y_train,cv=3)\n",
        "confu_mx = confusion_matrix(y_train,y_train_predict)\n",
        "confu_mx"
      ],
      "execution_count": null,
      "outputs": [
        {
          "output_type": "execute_result",
          "data": {
            "text/plain": [
              "array([[5577,    0,   22,    5,    8,   43,   36,    6,  225,    1],\n",
              "       [   0, 6400,   37,   24,    4,   44,    4,    7,  212,   10],\n",
              "       [  27,   27, 5220,   92,   73,   27,   67,   36,  378,   11],\n",
              "       [  22,   17,  117, 5227,    2,  203,   27,   40,  403,   73],\n",
              "       [  12,   14,   41,    9, 5182,   12,   34,   27,  347,  164],\n",
              "       [  27,   15,   30,  168,   53, 4444,   75,   14,  535,   60],\n",
              "       [  30,   15,   42,    3,   44,   97, 5552,    3,  131,    1],\n",
              "       [  21,   10,   51,   30,   49,   12,    3, 5684,  195,  210],\n",
              "       [  17,   63,   48,   86,    3,  126,   25,   10, 5429,   44],\n",
              "       [  25,   18,   30,   64,  118,   36,    1,  179,  371, 5107]])"
            ]
          },
          "metadata": {},
          "execution_count": 22
        }
      ]
    },
    {
      "cell_type": "markdown",
      "metadata": {
        "id": "PEUo_ogwlDqe"
      },
      "source": [
        "Seeing alot of numbers like that is a little bit hard to understand. it's better to look at and image representation of the confusion matrix using Matlplotlib's matshow() function. "
      ]
    },
    {
      "cell_type": "code",
      "metadata": {
        "colab": {
          "base_uri": "https://localhost:8080/",
          "height": 292
        },
        "id": "FKDC7T7BlmU6",
        "outputId": "42959973-f249-415d-bcf5-8593f3f1bd26"
      },
      "source": [
        "plt.matshow(confu_mx,cmap=plt.cm.gray)"
      ],
      "execution_count": null,
      "outputs": [
        {
          "output_type": "execute_result",
          "data": {
            "text/plain": [
              "<matplotlib.image.AxesImage at 0x7f3b2ba74e90>"
            ]
          },
          "metadata": {},
          "execution_count": 23
        },
        {
          "output_type": "display_data",
          "data": {
            "image/png": "[encoded data removed]",
            "text/plain": [
              "<Figure size 288x288 with 1 Axes>"
            ]
          },
          "metadata": {
            "needs_background": "light"
          }
        }
      ]
    },
    {
      "cell_type": "markdown",
      "metadata": {
        "id": "5z2WnIqpl8DH"
      },
      "source": [
        "This plot looks good, since most images are on the diagonal. The 5 class looks a little bit darke, which means that the classifier did not work good on some of 5 images. "
      ]
    },
    {
      "cell_type": "markdown",
      "metadata": {
        "id": "8hS-0XZ0m5Fh"
      },
      "source": [
        "Finally, lets try another classifier which is the KNN classifier."
      ]
    },
    {
      "cell_type": "markdown",
      "metadata": {
        "id": "iciGPL_fnIOR"
      },
      "source": [
        "# KNN Classifier"
      ]
    },
    {
      "cell_type": "code",
      "metadata": {
        "colab": {
          "base_uri": "https://localhost:8080/"
        },
        "id": "_KNJ_rU4lu1y",
        "outputId": "8d71e09f-707b-43a7-e81b-02c06d680aa1"
      },
      "source": [
        "from sklearn.neighbors import KNeighborsClassifier\n",
        "knn_classifier = KNeighborsClassifier(weights='distance',n_neighbors =4)\n",
        "knn_classifier.fit(X_train,y_train)"
      ],
      "execution_count": null,
      "outputs": [
        {
          "output_type": "execute_result",
          "data": {
            "text/plain": [
              "KNeighborsClassifier(n_neighbors=4, weights='distance')"
            ]
          },
          "metadata": {},
          "execution_count": 24
        }
      ]
    },
    {
      "cell_type": "code",
      "metadata": {
        "id": "9drpYw6FngAC"
      },
      "source": [
        "y_knn_predicted = knn_classifier.predict(X_test)"
      ],
      "execution_count": null,
      "outputs": []
    },
    {
      "cell_type": "markdown",
      "metadata": {
        "id": "1KezNhQOoA-a"
      },
      "source": [
        "Let's mesure the accuracy score "
      ]
    },
    {
      "cell_type": "code",
      "metadata": {
        "colab": {
          "base_uri": "https://localhost:8080/"
        },
        "id": "WCRFQyZDnnmt",
        "outputId": "d94412b3-59d2-4225-a508-bb9ab58292e8"
      },
      "source": [
        "from sklearn.metrics import accuracy_score\n",
        "accuracy_score(y_test,y_knn_predicted)"
      ],
      "execution_count": null,
      "outputs": [
        {
          "output_type": "execute_result",
          "data": {
            "text/plain": [
              "0.9714"
            ]
          },
          "metadata": {},
          "execution_count": 26
        }
      ]
    },
    {
      "cell_type": "markdown",
      "metadata": {
        "id": "jx9g8EDPoQsn"
      },
      "source": [
        "Oh, wonderful, we got a very good classifier with 97% accuracy. \n"
      ]
    }
  ]
}